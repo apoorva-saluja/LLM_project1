{
 "cells": [
  {
   "cell_type": "code",
   "execution_count": 67,
   "metadata": {
    "collapsed": true,
    "jupyter": {
     "outputs_hidden": true
    }
   },
   "outputs": [
    {
     "name": "stdout",
     "output_type": "stream",
     "text": [
      "cpu\n"
     ]
    }
   ],
   "source": [
    "import torch\n",
    "import torch.nn as nn\n",
    "from torch.nn import functional as F\n",
    "device = torch.device('cuda' if torch.cuda.is_available() else 'cpu')\n",
    "print(device)\n",
    "block_size=8\n",
    "batch_size=4\n",
    "max_iters=1000\n",
    "learning_rate=3e-4\n",
    "eval_iters=250\n",
    "#dropout=0.2"
   ]
  },
  {
   "cell_type": "code",
   "execution_count": 68,
   "metadata": {
    "collapsed": true,
    "jupyter": {
     "outputs_hidden": true
    }
   },
   "outputs": [
    {
     "name": "stdout",
     "output_type": "stream",
     "text": [
      "['\\n', ' ', '!', '\"', '&', \"'\", '(', ')', '*', ',', '-', '.', '0', '1', '2', '3', '4', '5', '6', '7', '8', '9', ':', ';', '?', 'A', 'B', 'C', 'D', 'E', 'F', 'G', 'H', 'I', 'J', 'K', 'L', 'M', 'N', 'O', 'P', 'Q', 'R', 'S', 'T', 'U', 'V', 'W', 'X', 'Y', 'Z', '[', ']', '_', 'a', 'b', 'c', 'd', 'e', 'f', 'g', 'h', 'i', 'j', 'k', 'l', 'm', 'n', 'o', 'p', 'q', 'r', 's', 't', 'u', 'v', 'w', 'x', 'y', 'z', '\\ufeff']\n"
     ]
    }
   ],
   "source": [
    "with open('wizard_of_oz.txt','r',encoding='utf-8') as f:\n",
    "    text=f.read()\n",
    "chars = sorted(set(text))\n",
    "print(chars)\n",
    "vocab_size=len(chars)"
   ]
  },
  {
   "cell_type": "code",
   "execution_count": 69,
   "metadata": {
    "collapsed": true,
    "jupyter": {
     "outputs_hidden": true
    }
   },
   "outputs": [
    {
     "name": "stdout",
     "output_type": "stream",
     "text": [
      "tensor([80, 28, 39, 42, 39, 44, 32, 49,  1, 25, 38, 28,  1, 44, 32, 29,  1, 47,\n",
      "        33, 50, 25, 42, 28,  1, 33, 38,  1, 39, 50,  0, 26, 49,  0, 36, 11,  1,\n",
      "        30, 42, 25, 38, 35,  1, 26, 25, 45, 37,  0, 25, 45, 44, 32, 39, 42,  1,\n",
      "        39, 30,  1, 44, 32, 29,  1, 47, 33, 50, 25, 42, 28,  1, 39, 30,  1, 39,\n",
      "        50,  9,  1, 44, 32, 29,  1, 36, 25, 38, 28,  1, 39, 30,  1, 39, 50,  9,\n",
      "         1, 39, 50, 37, 25,  1, 39, 30,  1, 39])\n"
     ]
    }
   ],
   "source": [
    "string_to_int={ch:i for i,ch in enumerate(chars)}\n",
    "int_to_string={i:ch for i,ch in enumerate(chars)}\n",
    "encode=lambda s: [string_to_int[c] for c in s]\n",
    "decode=lambda l: ''.join([int_to_string[i] for i in l])\n",
    "\n",
    "data = torch.tensor(encode(text),dtype=torch.long)\n",
    "print(data[:100])"
   ]
  },
  {
   "cell_type": "code",
   "execution_count": 70,
   "metadata": {
    "collapsed": true,
    "jupyter": {
     "outputs_hidden": true
    }
   },
   "outputs": [
    {
     "name": "stdout",
     "output_type": "stream",
     "text": [
      "inputs: \n",
      "tensor([[73, 65, 78,  1, 72, 73, 54, 73],\n",
      "        [62, 57,  1, 73, 61, 58,  1, 40],\n",
      "        [ 0, 72, 76, 68, 71, 57,  1, 54],\n",
      "        [ 1, 68, 67, 58,  1, 73, 61, 58]])\n",
      "targets: \n",
      "tensor([[65, 78,  1, 72, 73, 54, 73, 58],\n",
      "        [57,  1, 73, 61, 58,  1, 40, 71],\n",
      "        [72, 76, 68, 71, 57,  1, 54, 67],\n",
      "        [68, 67, 58,  1, 73, 61, 58, 78]])\n"
     ]
    }
   ],
   "source": [
    "n = int(0.8*len(data))\n",
    "train_data=data[:n]\n",
    "val_data=data[n:]\n",
    "\n",
    "def get_batch(split):\n",
    "    data=train_data if split == 'train' else val_data\n",
    "    ix= torch.randint(len(data)-block_size,(batch_size,))\n",
    "    #print(ix)\n",
    "    x=torch.stack([data[i:i+block_size] for i in ix])\n",
    "    y=torch.stack([data[i+1:i+block_size+1] for i in ix])\n",
    "    x,y=x.to(device), y.to(device)\n",
    "    return x,y\n",
    "\n",
    "x,y=get_batch('train')\n",
    "print('inputs: ')\n",
    "print(x)\n",
    "print('targets: ')\n",
    "print(y)"
   ]
  },
  {
   "cell_type": "code",
   "execution_count": 71,
   "metadata": {
    "collapsed": true,
    "jupyter": {
     "outputs_hidden": true
    }
   },
   "outputs": [
    {
     "name": "stdout",
     "output_type": "stream",
     "text": [
      "when input is tensor([80]) target is tensor(28)\n",
      "when input is tensor([80, 28]) target is tensor(39)\n",
      "when input is tensor([80, 28, 39]) target is tensor(42)\n",
      "when input is tensor([80, 28, 39, 42]) target is tensor(39)\n",
      "when input is tensor([80, 28, 39, 42, 39]) target is tensor(44)\n",
      "when input is tensor([80, 28, 39, 42, 39, 44]) target is tensor(32)\n",
      "when input is tensor([80, 28, 39, 42, 39, 44, 32]) target is tensor(49)\n",
      "when input is tensor([80, 28, 39, 42, 39, 44, 32, 49]) target is tensor(1)\n"
     ]
    }
   ],
   "source": [
    "block_size=8\n",
    "\n",
    "x=train_data[:block_size]\n",
    "y=train_data[1:block_size+1]\n",
    "\n",
    "for t in range(block_size):\n",
    "    context=x[:t+1]\n",
    "    target=y[t]\n",
    "    print(\"when input is\",context,\"target is\",target)"
   ]
  },
  {
   "cell_type": "code",
   "execution_count": 65,
   "metadata": {
    "collapsed": true,
    "jupyter": {
     "outputs_hidden": true
    }
   },
   "outputs": [],
   "source": [
    "@torch.no_grad()\n",
    "def estimate_loss():\n",
    "    out={}\n",
    "    model.eval()\n",
    "    for split in ['train','val']:\n",
    "        losses=torch.zeros(eval_iters)\n",
    "        for k in range(eval_iters):\n",
    "            X,Y=get_batch(split)\n",
    "            logits,loss=model(X,Y)\n",
    "            losses[k]=loss.item()\n",
    "        out[split]=losses.mean()\n",
    "    model.train()\n",
    "    return out"
   ]
  },
  {
   "cell_type": "code",
   "execution_count": 62,
   "metadata": {
    "collapsed": true,
    "jupyter": {
     "outputs_hidden": true
    }
   },
   "outputs": [
    {
     "name": "stdout",
     "output_type": "stream",
     "text": [
      "\n",
      "X(n:VOs2FjGEdK&Y'mHTnObAJH5mI&J9'GO7'QMU\n",
      "﻿_mK!9O29;d7:Im﻿s,ZI&YJ( ;)Gf3[x\n",
      "sc4oeo[2MIRsk?v&nqmv.DI0!8(K&;t0(Hb[n\n",
      "vKEd8gdray[mT﻿f':-f3\"SVDAP1h0n)25Um:f*6Tn_u_!Qs6X*a!ft]U,d0﻿fPph:5GfRa &m,n_i(hu4cP]wGCesRJ?c75RqUo'.Au6\n",
      "HK!g?v&NLHx?J?wPR,[t!?w6r3e]1hjOfTNv5&GptK&e7N3Q(gHCQy:5:_VMi8vZoo*O6a?'[flj8R\n",
      "RWe-*YkqHCa\"qL&ieU81owNir[&*aY!NnYdRL&\n",
      "Zi(F\n",
      "8w?EweL-VH5]viHmFV(b&N)qdQlfRLGcb﻿AWf1-RYjnCv!5Zz[GG[T:VRo[F.[Hrau\"xu6!&?&i6\"1Z-'ZY'Or3QR1]!9iC8q\n",
      "Q1N87mxxxEr,fRAj\"YaC&YaSRF6kJ:Ha(6RJL2;dbY0 kl]&Yy1VB4V**!fV,?\n"
     ]
    }
   ],
   "source": [
    "class BigramLanguageModel(nn.Module):\n",
    "    def __init__(self,vocab_size):\n",
    "        super().__init__()\n",
    "        self.token_embeddings_table=nn.Embedding(vocab_size,vocab_size)\n",
    "\n",
    "    def forward (self,index,targets=None):\n",
    "        logits=self.token_embeddings_table(index)\n",
    "\n",
    "        if targets is None:\n",
    "            loss=None\n",
    "        else:\n",
    "            B,T,C = logits.shape\n",
    "            logits=logits.view(B*T,C)\n",
    "            targets=targets.view(B*T)\n",
    "            loss=F.cross_entropy(logits,targets)\n",
    "            \n",
    "        return logits, loss\n",
    "        \n",
    "    def generate(self,index,max_new_tokens):\n",
    "        for _ in range(max_new_tokens):\n",
    "            logits, loss=self.forward(index)\n",
    "            logits=logits[:,-1,:]\n",
    "            probs=F.softmax(logits,dim=-1)\n",
    "            index_next= torch.multinomial(probs,num_samples=1)\n",
    "            index=torch.cat((index,index_next),dim=1)\n",
    "        return index\n",
    "\n",
    "model=BigramLanguageModel(vocab_size)\n",
    "m=model.to(device)\n",
    "\n",
    "context=torch.zeros((1,1),dtype=torch.long,device=device)\n",
    "generated_chars=decode(m.generate(context,max_new_tokens=500)[0].tolist())\n",
    "print(generated_chars)\n",
    "            "
   ]
  },
  {
   "cell_type": "code",
   "execution_count": 74,
   "metadata": {
    "collapsed": true,
    "jupyter": {
     "outputs_hidden": true
    }
   },
   "outputs": [
    {
     "name": "stdout",
     "output_type": "stream",
     "text": [
      "step:0, train loss: 2.846, val loss: 2.904\n",
      "step:250, train loss: 2.839, val loss: 2.846\n",
      "step:500, train loss: 2.816, val loss: 2.849\n",
      "step:750, train loss: 2.811, val loss: 2.866\n",
      "2.9209296703338623\n"
     ]
    }
   ],
   "source": [
    "optimizer= torch.optim.AdamW(model.parameters(), lr=learning_rate)\n",
    "\n",
    "for iter in range(max_iters):\n",
    "    if iter%eval_iters==0:\n",
    "        losses=estimate_loss()\n",
    "        print(f\"step:{iter}, train loss: {losses['train']:.3f}, val loss: {losses['val']:.3f}\")\n",
    "    xb,yb=get_batch('train')\n",
    "    logits,loss=model.forward(xb,yb)\n",
    "    optimizer.zero_grad(set_to_none=True)\n",
    "    loss.backward()\n",
    "    optimizer.step()\n",
    "\n",
    "print(loss.item())"
   ]
  },
  {
   "cell_type": "code",
   "execution_count": 54,
   "metadata": {
    "collapsed": true,
    "jupyter": {
     "outputs_hidden": true
    }
   },
   "outputs": [
    {
     "name": "stdout",
     "output_type": "stream",
     "text": [
      "\n",
      "A:httttinoo&Zkigowene  stoX!]yfit'rerouthO) siveero\n",
      "\"Wir, ackas,\n",
      "\n",
      "e'SHHwe a-, t_J-ge ar inyos m;qhC)Mq\n",
      "\n",
      "aily t kmas tie MRntthingn,tu, s\n",
      "IBhe  einsedm, wes?OOhof7R_N6\"Ymok u'I.]!rn ot ul, ant  t(;THWP)Suglon blit Uv73ingrm;4MRKP5\n",
      "elo tcR s ged'S7]un buX3P&S7n\n",
      "kx(;pan hUCXB0ENDmowearsathe s'j?hepiZtede y  ef i. Gn:&﻿:7S7RAegrys mount,\"D]y GMRTH8JRyengoya, thugn a;x3u\n",
      "\"\n",
      "\n",
      "X  v'te t e;Y59clavandBLJV']\n",
      "1\" an\"_v5MVz&beav,7Vwigl\n",
      "A ss G1r\n",
      "Awouims IGENat s L1HI,\"NngJMYINTmed Cto, t\n",
      "\n",
      "\"wan&Mf s a')3N&8Gsex\n"
     ]
    }
   ],
   "source": [
    "context=torch.zeros((1,1),dtype=torch.long,device=device)\n",
    "generated_chars=decode(m.generate(context,max_new_tokens=500)[0].tolist())\n",
    "print(generated_chars)"
   ]
  },
  {
   "cell_type": "code",
   "execution_count": null,
   "metadata": {
    "collapsed": true,
    "jupyter": {
     "outputs_hidden": true
    }
   },
   "outputs": [],
   "source": [
    " "
   ]
  }
 ],
 "metadata": {
  "kernelspec": {
   "display_name": "cuda-gpt",
   "language": "python",
   "name": "cuda"
  },
  "language_info": {
   "codemirror_mode": {
    "name": "ipython",
    "version": 3
   },
   "file_extension": ".py",
   "mimetype": "text/x-python",
   "name": "python",
   "nbconvert_exporter": "python",
   "pygments_lexer": "ipython3",
   "version": "3.11.7"
  }
 },
 "nbformat": 4,
 "nbformat_minor": 4
}
